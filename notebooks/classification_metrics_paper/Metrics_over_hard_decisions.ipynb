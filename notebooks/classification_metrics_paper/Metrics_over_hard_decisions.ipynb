{
 "cells": [
  {
   "cell_type": "code",
   "execution_count": 1,
   "metadata": {},
   "outputs": [],
   "source": [
    "# Code used to create the results in section 2.7 of the paper \n",
    "# \"Analysis and Comparison of Classification Metrics\" \n",
    "\n",
    "import numpy as np\n",
    "import matplotlib as mpl\n",
    "import matplotlib.pyplot as plt\n",
    "import scipy.stats\n",
    "from scipy.special import expit, logit\n",
    "import sys\n",
    "sys.path.append(\"../\")\n",
    "from expected_cost import ec, utils\n",
    "\n"
   ]
  },
  {
   "cell_type": "markdown",
   "metadata": {},
   "source": [
    "Generate a family of confusion matrices, compute different metrics from it, and plot their comparisons"
   ]
  },
  {
   "cell_type": "code",
   "execution_count": 2,
   "metadata": {},
   "outputs": [
    {
     "name": "stdout",
     "output_type": "stream",
     "text": [
      "Dumping plots in outputs/Metrics_over_hard_decisions/results_for_prior1_0.50*\n"
     ]
    }
   ],
   "source": [
    "outdir = \"outputs/Metrics_over_hard_decisions\"\n",
    "utils.mkdir_p(outdir)\n",
    "\n",
    "# Total number of samples to generate\n",
    "K  = 1000\n",
    "\n",
    "# Number of samples for class 1. In the paper, this is called R2*. \n",
    "# For the balanced case, it should be set to 500, for the imbalanced \n",
    "# set, to 100.\n",
    "N1 = 500\n",
    "\n",
    "# Number of samples for class 0. In the paper, this is R1*.\n",
    "N0 = K-N1\n",
    "\n",
    "# We consider two priors, the ones in the data and the uniform one\n",
    "priors_data = np.array([N0/K, N1/K])\n",
    "priors_unif = np.array([0.5, 0.5])\n",
    "\n",
    "# We consider to cost matrices, the usual 0-1 matrix\n",
    "# and one with a higher weight for K10\n",
    "costs_01 = ec.cost_matrix([[0, 1], [1, 0]])\n",
    "costs_0b = ec.cost_matrix([[0, 1], [2, 0]])\n",
    "\n",
    "# Output dir\n",
    "out_name = \"%s/results_for_prior1_%.2f\"%(outdir,N1/K)\n",
    "print(\"Dumping plots in %s*\"%out_name)\n"
   ]
  },
  {
   "cell_type": "code",
   "execution_count": 3,
   "metadata": {},
   "outputs": [
    {
     "name": "stdout",
     "output_type": "stream",
     "text": [
      "K10    K01  |     NEC_u    NEC_b^2=1   NEC_b^2=2   F_b=1       MCC   |   R21     R12   |   R*2    R*1\n",
      "   0     50 |      0.10       0.10       0.10       0.95       0.90  |   0.00    0.10  |   0.55   0.45\n",
      "   0    250 |      0.50       0.50       0.50       0.80       0.58  |   0.00    0.50  |   0.75   0.25\n",
      "   0    450 |      0.90       0.90       0.90       0.69       0.23  |   0.00    0.90  |   0.95   0.05\n",
      "  25     25 |      0.10       0.10       0.15       0.95       0.90  |   0.05    0.05  |   0.50   0.50\n",
      "  25    225 |      0.50       0.50       0.55       0.79       0.55  |   0.05    0.45  |   0.70   0.30\n",
      "  50      0 |      0.10       0.10       0.20       0.95       0.90  |   0.10    0.00  |   0.45   0.55\n",
      " 125    125 |      0.50       0.50       0.75       0.75       0.50  |   0.25    0.25  |   0.50   0.50\n",
      " 225    225 |      0.90       0.90       1.35       0.55       0.10  |   0.45    0.45  |   0.50   0.50\n",
      " 250      0 |      0.50       0.50       1.00       0.67       0.58  |   0.50    0.00  |   0.25   0.75\n",
      " 450      0 |      0.90       0.90       1.80       0.18       0.23  |   0.90    0.00  |   0.05   0.95\n"
     ]
    },
    {
     "data": {
      "image/png": "[encoded data removed]",
      "text/plain": [
       "<Figure size 576x180 with 3 Axes>"
      ]
     },
     "metadata": {},
     "output_type": "display_data"
    }
   ],
   "source": [
    "fig, (ax1, ax2, ax3) = plt.subplots(1, 3, figsize=(8,2.5))\n",
    "\n",
    "print(\"K10    K01  |     NEC_u    NEC_b^2=1   NEC_b^2=2   F_b=1       MCC   |   R21     R12   |   R*2    R*1\")\n",
    "\n",
    "# K10: number of class 1 samples labelled as 0\n",
    "for K10 in np.arange(0,N1,int(N1/20)):\n",
    "\n",
    "    EC1s = []\n",
    "    EC2s = []\n",
    "    EC3s = []\n",
    "    FSs  = []\n",
    "    MCCs = []\n",
    "\n",
    "    # K01: number of class 0 samples labelled as 1\n",
    "    for K01 in np.arange(0,N0,int(N0/20)):\n",
    "\n",
    "        # Get the normalized confusion matrix needed to compute the metrics\n",
    "        R = utils.compute_R_matrix_from_counts_for_binary_classif(K01, K10, N0, N1)\n",
    "\n",
    "        # Compute various metrics based on the confusion matrix\n",
    "        EC1s.append(ec.average_cost_from_confusion_matrix(R, priors_unif, costs_01, adjusted=True))\n",
    "        EC2s.append(ec.average_cost_from_confusion_matrix(R, priors_data, costs_01, adjusted=True))\n",
    "        EC3s.append(ec.average_cost_from_confusion_matrix(R, priors_data, costs_0b, adjusted=True))\n",
    "        FSs.append(utils.Fscore(K10, K01, N0, N1))\n",
    "        MCCs.append(utils.MCCoeff(K10, K01, N0, N1))\n",
    "\n",
    "        # Print results\n",
    "        if (K10==0 or K01==0 or K10==K01 or np.abs(K01-10*K10)<100) and np.around(EC1s[-1],1) in [0.1,0.5,0.9]:\n",
    "            print(\"%4d   %4d | %9.2f  %9.2f  %9.2f  %9.2f  %9.2f  |  %5.2f   %5.2f  |  %5.2f  %5.2f\"%\n",
    "                 (K10, K01, EC1s[-1], EC2s[-1], EC3s[-1], FSs[-1], MCCs[-1], K10/N1, K01/N0, (N1-K10+K01)/K, (N0-K01+K10)/K))\n",
    "\n",
    "    # Plot three scatter plots\n",
    "    ax1.plot(EC1s, MCCs, 'b.', label=\"K10=%d\"%K10)\n",
    "    ax2.plot(EC2s, FSs,  'b.', label=\"K10=%d\"%K10)\n",
    "    ax3.plot(EC3s, FSs,  'b.', label=\"K10=%d\"%K10)\n",
    "\n",
    "# Add labels and limits to the plots\n",
    "ax1.set_xlabel(r'$\\mathrm{NEC}_u$')\n",
    "ax1.set_ylabel(\"MCC\")\n",
    "ax1.plot([1,1],[-1,1],'k:',linewidth=2)\n",
    "\n",
    "ax2.set_xlabel(r'$\\mathrm{NEC}_{\\beta^2=1}$')\n",
    "ax2.set_ylabel(r'$\\mathrm{F}_{\\beta=1}$')\n",
    "ax2.set_xlim(0,2)\n",
    "ax2.plot([1,1],[0,1],'k:',linewidth=2)\n",
    "\n",
    "ax3.set_xlabel(r'$\\mathrm{NEC}_{\\beta^2=2}$')\n",
    "ax3.set_ylabel(r'$\\mathrm{F}_{\\beta=1}$')\n",
    "ax3.set_xlim(0,2)\n",
    "ax3.plot([1,1],[0,1],'k:',linewidth=2)\n",
    "\n",
    "fig.tight_layout()\n",
    "fig.savefig(out_name+\".pdf\")"
   ]
  },
  {
   "cell_type": "code",
   "execution_count": null,
   "metadata": {},
   "outputs": [],
   "source": []
  }
 ],
 "metadata": {
  "kernelspec": {
   "display_name": "Python 3 (ipykernel)",
   "language": "python",
   "name": "python3"
  },
  "language_info": {
   "codemirror_mode": {
    "name": "ipython",
    "version": 3
   },
   "file_extension": ".py",
   "mimetype": "text/x-python",
   "name": "python",
   "nbconvert_exporter": "python",
   "pygments_lexer": "ipython3",
   "version": "3.9.13"
  }
 },
 "nbformat": 4,
 "nbformat_minor": 2
}
