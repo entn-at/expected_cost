{
 "cells": [
  {
   "cell_type": "code",
   "execution_count": 1,
   "metadata": {
    "colab": {
     "base_uri": "https://localhost:8080/"
    },
    "id": "3gEIJ0m_bAvI",
    "outputId": "b921aa6c-05d4-4556-bb13-82234f2ea7e9"
   },
   "outputs": [],
   "source": [
    "# Code used to create the plots in section 4.7.2 and 4.7.3 in the paper:\n",
    "# \"Analysis and Comparison of Classification Metrics\" \n",
    "# For section 4.7.2 set num_targets to 2.\n",
    "# For section 4.7.3 set num_targets to 10.\n",
    "\n",
    "# This script assumes you have cloned the psr-calibration repository\n",
    "# and links the psrcal folder in the main directory in this repository\n",
    "# (i.e., one level above this notebook)\n",
    "\n",
    "import re\n",
    "import sys\n",
    "\n",
    "import matplotlib.pyplot as plt\n",
    "import numpy as np\n",
    "from scipy.special import logsumexp\n",
    "import torch\n",
    "\n",
    "sys.path += [\"../../\", \"../\"]\n",
    "from expected_cost import ec, utils\n",
    "from data import create_scores_for_expts\n",
    "from psrcal.losses import plot_reliability_diagram\n",
    "from expected_cost.psrcal_wrappers import Brier, LogLoss, ECE, ECEbin, CalLoss"
   ]
  },
  {
   "cell_type": "code",
   "execution_count": 2,
   "metadata": {
    "id": "KhNe1ch_oua7"
   },
   "outputs": [],
   "source": [
    "# Compute normalized metrics\n",
    "adjusted_cost = True\n",
    "\n",
    "sep1 = \" \"\n",
    "sep2 = \"|\"\n",
    "sep3 = \"\"\n",
    "\n",
    "def print_header(metric_dict, score_dict):\n",
    "    print(f\"{'':>13s}  {sep2}\", end='')\n",
    "    for metric_name, metric in metric_dict.items():\n",
    "        print(f\" {metric_name:<22s} {sep2}\", end='')\n",
    "    print(\"\")\n",
    "    print(f\"{'Score_type':<13s}  {sep2}\", end='')\n",
    "    for metric_name, metric in metric_dict.items():\n",
    "        for rc in score_dict.keys():\n",
    "            print(f\"{sep1}  {rc}  \", end='')\n",
    "        print(sep2, end='')\n",
    "    print(sep3)\n",
    "\n",
    "outdir = \"outputs/psr_and_calibration_analysis\"\n",
    "utils.mkdir_p(outdir)"
   ]
  },
  {
   "cell_type": "markdown",
   "metadata": {
    "id": "fRs7Idw5pMGF"
   },
   "source": [
    "Generate a bunch of different posteriors for a C class problem (C can be changed to whatever you like). First, generate likelihoods with Gaussian class distributions and then compute:\n",
    "\n",
    "* Datap: log-posteriors obtained from the llks applying the true data priors\n",
    "\n",
    "* Mismp: log-posteriors obtained from the llks applying the mismatched data priors to simulate a system that was trained with the wrong priors\n",
    "\n",
    "Two llk versions are used (cal, mc1): miscalibrated and calibrated ones, resulting in two versions of each of the above posteriors. Finally, another miscalibrated version of the posteriors (mc2) is created by scaling the log-posteriors directly.\n",
    "\n",
    "For each of the 6 posteriors (Datap/Mismp-cal/mc1/mc2), two calibrated versions, using an affine transformation and temp scaling are also created.\n",
    "\n"
   ]
  },
  {
   "cell_type": "code",
   "execution_count": 10,
   "metadata": {
    "colab": {
     "base_uri": "https://localhost:8080/"
    },
    "id": "DWFj1hUipCPN",
    "outputId": "c009493a-64f6-444f-f00c-04d370a5423c",
    "scrolled": true
   },
   "outputs": [
    {
     "name": "stdout",
     "output_type": "stream",
     "text": [
      "\n",
      "**** Creating simulated data with Gaussian class distributions for 10 classes ****\n",
      "\n"
     ]
    }
   ],
   "source": [
    "num_targets = 10 # 2 for the results in table 3 of the paper, 10 for results in section 4.7.3 \n",
    "score_dict, targets = create_scores_for_expts(num_targets, calibrate=True, score_scale_mc2=0.2)\n",
    "\n"
   ]
  },
  {
   "cell_type": "markdown",
   "metadata": {
    "id": "jzV0Nk9BcB9o"
   },
   "source": [
    "Now, using the logposteriors computed with matched priors, compute a family of cost matrices varying the costs for the last row (in the log domain) and leaving the other one fixed at 1. For each of these matrices compute the cost for maximum-a-posterior decisions and the cost for Bayes decisions. "
   ]
  },
  {
   "cell_type": "code",
   "execution_count": 11,
   "metadata": {
    "colab": {
     "base_uri": "https://localhost:8080/"
    },
    "id": "_bKnJMGbp2aT",
    "outputId": "3d22452e-7840-4160-d37d-56cd43571e30"
   },
   "outputs": [
    {
     "name": "stdout",
     "output_type": "stream",
     "text": [
      "Normalized expected cost (NEC) for cost matrix with c_ii = 0, c_ij = 1 for i!=j and i!=C, and c_ij = alpha, for i!=j and i=C, \n",
      "using calibrated (cal) and misscalibrated (mc1) log posteriors computed with the data priors\n",
      "\n",
      "Alpha \t NEC_MAP_mc1 \t NEC_Bayes_mc1 \t NEC_Bayes_cal\n",
      " 0.018 \t  0.316 \t  0.306 \t  0.266\n",
      " 0.030 \t  0.316 \t  0.307 \t  0.266\n",
      " 0.050 \t  0.315 \t  0.308 \t  0.267\n",
      " 0.082 \t  0.314 \t  0.309 \t  0.267\n",
      " 0.135 \t  0.313 \t  0.310 \t  0.268\n",
      " 0.223 \t  0.310 \t  0.309 \t  0.268\n",
      " 0.368 \t  0.306 \t  0.306 \t  0.266\n",
      " 0.607 \t  0.300 \t  0.301 \t  0.262\n",
      " 1.000 \t  0.290 \t  0.290 \t  0.255\n",
      " 1.649 \t  0.276 \t  0.280 \t  0.243\n",
      " 2.718 \t  0.256 \t  0.261 \t  0.226\n",
      " 4.482 \t  0.230 \t  0.234 \t  0.199\n",
      " 7.389 \t  0.201 \t  0.200 \t  0.165\n",
      "12.182 \t  0.171 \t  0.159 \t  0.128\n",
      "20.086 \t  0.144 \t  0.118 \t  0.094\n",
      "33.115 \t  0.123 \t  0.082 \t  0.066\n"
     ]
    }
   ],
   "source": [
    "print(\"Normalized expected cost (NEC) for cost matrix with c_ii = 0, c_ij = 1 for i!=j and i!=C, and c_ij = alpha, for i!=j and i=C, \")\n",
    "print(\"using calibrated (cal) and misscalibrated (mc1) log posteriors computed with the data priors\\n\")\n",
    "\n",
    "if num_targets == 2:\n",
    "    print(\"Alpha \\t NEC_MAP_mc1 \\t NEC_Bayes_mc1 \\t NEC_Bayes_cal \\t NEC_Optimal\")\n",
    "else:\n",
    "    print(\"Alpha \\t NEC_MAP_mc1 \\t NEC_Bayes_mc1 \\t NEC_Bayes_cal\")\n",
    "\n",
    "# Maximum a posteriori decisions\n",
    "map_decisions = np.argmax(score_dict['mc1']['Datap'], axis=-1)\n",
    "\n",
    "for logalpha in np.arange(-4, 4, 0.5):\n",
    "    alpha = np.exp(logalpha)\n",
    "\n",
    "    # Create the cost matrix with alpha in the last row\n",
    "    costm = 1 - np.eye(num_targets)\n",
    "    costm[-1, 0:-1] = alpha\n",
    "    cost = ec.CostMatrix(costm)\n",
    "\n",
    "    # Compute the EC for MAP and Bayes decisions made with miscalibrated posteriors\n",
    "    # and for Bayes decisions made with calibrated posteriors.\n",
    "    ec_map = ec.average_cost(targets, map_decisions, cost, adjusted=adjusted_cost)\n",
    "    ec_bayes, _ = ec.average_cost_for_bayes_decisions(targets, score_dict['mc1']['Datap'], cost, adjusted=adjusted_cost)\n",
    "    ec_bayes_after_cal, _ = ec.average_cost_for_bayes_decisions(targets, score_dict['cal']['Datap'], cost, adjusted=adjusted_cost)\n",
    "\n",
    "    if num_targets == 2:\n",
    "        # For the binary case we can also compute the optimal NEC (normalized expected cost)\n",
    "        # obtained by sweeping a threshold and choosing the one that minimizes the NEC\n",
    "        ec_min = ec.average_cost_for_optimal_decisions(targets, score_dict['mc1']['Datap'], cost, adjusted=adjusted_cost)\n",
    "        print(f\"{alpha:6.3f} \\t {ec_map:6.3f} \\t {ec_bayes:6.3f} \\t {ec_bayes_after_cal:6.3f} \\t {ec_min:6.3f}\")\n",
    "    else:\n",
    "        print(f\"{alpha:6.3f} \\t {ec_map:6.3f} \\t {ec_bayes:6.3f} \\t {ec_bayes_after_cal:6.3f}\")\n"
   ]
  },
  {
   "cell_type": "markdown",
   "metadata": {
    "id": "Ab8UEe7jcOYH"
   },
   "source": [
    "In the table above:\n",
    "* Columns 2 through 5 are the normalized expected cost (NEC) when decisions are made with different algorithms.\n",
    "* The name of the column indicates how the decisions were made: MAP decisions, Bayes decisions on raw scores, Bayes decisions on calibrated scores, and when C=2, optimal decisions (ie, selecting the \"cheating\" best threshold for the test data).\n",
    "* The difference between NEC_MAP_mc1 and NEC_Bayes_mc1 shows the suboptimality of MAP decisions when the costs are not equal.\n",
    "* The difference between the NEC_Bayes_mc1 and the NEC_Bayes_cal shows how well or badly calibrated the system scores are. Larger differences indicate a more severe calibration problem at that specific operating point. \n",
    "* (Only for binary classification) The difference between NEC_Bayes_cal and NEC_Optimal indicates that either the calibration did not work perfectly for that operating point or that the optimal cost is, in fact, too optimistic since the threshold is selected on the evaluation data itself.\n",
    "\n",
    "\n"
   ]
  },
  {
   "cell_type": "code",
   "execution_count": 12,
   "metadata": {
    "colab": {
     "base_uri": "https://localhost:8080/"
    },
    "id": "JmLDIYzbt4lp",
    "outputId": "c5420206-764c-4deb-96c7-4163bee0fb0e"
   },
   "outputs": [
    {
     "name": "stdout",
     "output_type": "stream",
     "text": [
      "Average cost for cost matrix with c_ii=0, c_ij=1 for i!=j, and with a last column for an abstention decision with cost alpha, \n",
      "using calibrated (cal) and misscalibrated (mc1) log posteriors computed with the data priors\n",
      "\n",
      "        |   mc1    |               mc1             |            cal\n",
      "Alpha   |   MAP    |  EC_Bayes  NEC_Bayes   %Abs   |  EC_Bayes   NEC_Bayes   %Abs\n",
      " 0.010  |   2.901  |    0.003     0.305     15.9   |    0.003     0.293      19.5\n",
      " 0.100  |   0.290  |    0.017     0.167      8.9   |    0.014     0.136       7.8\n",
      " 0.200  |   0.290  |    0.027     0.268      8.4   |    0.019     0.194       4.5\n",
      " 0.400  |   0.290  |    0.029     0.292      2.5   |    0.025     0.250       1.5\n",
      " 0.600  |   0.290  |    0.029     0.290      0.0   |    0.025     0.255       0.0\n",
      " 1.000  |   0.290  |    0.029     0.290      0.0   |    0.025     0.255       0.0\n"
     ]
    }
   ],
   "source": [
    "print(\"Average cost for cost matrix with c_ii=0, c_ij=1 for i!=j, and with a last column for an abstention decision with cost alpha, \")\n",
    "print(\"using calibrated (cal) and misscalibrated (mc1) log posteriors computed with the data priors\\n\")\n",
    "print(\"        |   mc1    |               mc1             |            cal\")\n",
    "print(\"Alpha   |   MAP    |  EC_Bayes  NEC_Bayes   %Abs   |  EC_Bayes   NEC_Bayes   %Abs\")\n",
    "\n",
    "for alpha in [0.01, 0.1, 0.2, 0.4, 0.6, 1.0]:\n",
    "\n",
    "    # Create a cost matrix with an abstention decision\n",
    "    cost = ec.CostMatrix.zero_one_costs(num_targets, abstention_cost=alpha)\n",
    "\n",
    "    # Compute the EC for MAP and Bayes decisions made with miscalibrated posteriors\n",
    "    # and for Bayes decisions made with calibrated posteriors.\n",
    "    ec_map = ec.average_cost(targets, map_decisions, cost, adjusted=adjusted_cost)\n",
    "    ec_bayes, decisions, = ec.average_cost_for_bayes_decisions(targets, score_dict['mc1']['Datap'], cost, adjusted=adjusted_cost)\n",
    "    ec_bayes_after_cal, decisions_after_cal = ec.average_cost_for_bayes_decisions(targets, score_dict['cal']['Datap'], cost, adjusted=adjusted_cost)\n",
    "\n",
    "    # Non-normalized ECs for comparison\n",
    "    ec_bayes_nonorm, _ = ec.average_cost_for_bayes_decisions(targets, score_dict['mc1']['Datap'], cost, adjusted=False)\n",
    "    ec_bayes_after_cal_nonorm, _ = ec.average_cost_for_bayes_decisions(targets, score_dict['cal']['Datap'], cost, adjusted=False)\n",
    "\n",
    "    # Percentage of samples for which the abstention decision is made\n",
    "    perc_abs = np.sum(decisions == num_targets) / len(decisions) * 100\n",
    "    perc_abs_after_cal = np.sum(decisions_after_cal == num_targets) / len(decisions) * 100\n",
    "\n",
    "    print(f\"{alpha:6.3f}  |  {ec_map:6.3f}  |   {ec_bayes_nonorm:6.3f}    {ec_bayes:6.3f}   {perc_abs:6.1f}   |   {ec_bayes_after_cal_nonorm:6.3f}    {ec_bayes_after_cal:6.3f}    {perc_abs_after_cal:6.1f}\")\n"
   ]
  },
  {
   "cell_type": "markdown",
   "metadata": {
    "id": "tnBJH8K-m0n3"
   },
   "source": [
    "In the table above:\n",
    "* The lower the cost of abstention, the more samples get this label and the worse the MAP decisions are (since they do not take advantage of the abstention option). \n",
    "* If the cost of abstention is too high, the system never chooses to abstain.\n",
    "* The difference between the EC_Bayes (or NEC_Bayes) columns for mc1 and for cal posteriors show the extent of the misscalibration in the mc1 posteriors.\n",
    "* EC_Bayes decreases as alpha decreases, since the system chooses to abstain when it is cheaper than choosing one of the two classes.\n",
    "* On the other hand NEC_Bayes does not decrease monotonically with alpha because the normalization factor is affected by alpha (when alpha is very small, it is very hard to beat the naïve system that always chooses to abstain).\n",
    "* Note that, even for the binary case, when the cost function has an abstention decision, optimal decisions cannot be made by sweeping a threshold as for the square cost function above because there are three possible decisions\n"
   ]
  },
  {
   "cell_type": "markdown",
   "metadata": {
    "id": "hdvFoEY2m6pT"
   },
   "source": [
    "---\n",
    "\n",
    "Finally, analyze the issue of mismatched priors and calibration with various metrics.\n",
    "\n",
    "To this end, we evaluate a couple of expected costs (using Bayes decisions) and other metrics for each of the posteriors generated above. In all cases we take the target priors to be the ones in the test data. "
   ]
  },
  {
   "cell_type": "code",
   "execution_count": 13,
   "metadata": {
    "id": "Lj9yvlo03Nbf"
   },
   "outputs": [],
   "source": [
    "# Evaluate with two different ECs, cross-entropy (expected log loss) and Brier score\n",
    "cost_01 = ec.CostMatrix.zero_one_costs(num_targets)\n",
    "cost_ab1 = ec.CostMatrix.zero_one_costs(num_targets, abstention_cost=0.1)\n",
    "metric_dict = {\n",
    "    'cost_01': cost_01, \n",
    "    'cost_01_abs=0.1': cost_ab1, \n",
    "    'cross-entropy': LogLoss, \n",
    "    'brier-score': Brier\n",
    "    }\n"
   ]
  },
  {
   "cell_type": "code",
   "execution_count": 14,
   "metadata": {
    "colab": {
     "base_uri": "https://localhost:8080/"
    },
    "id": "70eC6QMl1pP9",
    "outputId": "2de47356-794c-4886-c674-79ca06d6d784"
   },
   "outputs": [
    {
     "name": "stdout",
     "output_type": "stream",
     "text": [
      "               | cost_01                | cost_01_abs=0.1        | cross-entropy          | brier-score            |\n",
      "Score_type     |   cal     mc1     mc2  |   cal     mc1     mc2  |   cal     mc1     mc2  |   cal     mc1     mc2  |\n",
      "Datap          |  0.25    0.29    0.25  |  0.14    0.17    0.93  |  0.13    0.17    0.57  |  0.21    0.26    0.70  |\n",
      "Datap-affcal   |  0.25    0.25    0.25  |  0.14    0.14    0.14  |  0.13    0.13    0.13  |  0.21    0.21    0.21  |\n",
      "Datap-temcal   |  0.25    0.29    0.25  |  0.14    0.17    0.14  |  0.13    0.17    0.13  |  0.21    0.26    0.21  |\n",
      "Mismp          |  1.11    0.70    1.11  |  0.52    0.61    1.00  |  0.50    0.48    0.99  |  0.86    0.70    1.58  |\n",
      "Mismp-affcal   |  0.25    0.25    0.25  |  0.14    0.14    0.14  |  0.13    0.13    0.13  |  0.21    0.21    0.21  |\n",
      "Mismp-temcal   |  1.11    0.70    1.11  |  0.51    0.39    0.51  |  0.50    0.40    0.50  |  0.86    0.58    0.86  |\n"
     ]
    }
   ],
   "source": [
    "print_header(metric_dict, score_dict)\n",
    "\n",
    "for score_name in np.sort(list(score_dict['mc1'].keys())):\n",
    "    if 'llks' in score_name or 'caltt' in score_name: continue\n",
    "    print(f\"{score_name:<13s}  {sep2}\", end='')\n",
    "\n",
    "    for metric_name, metric in metric_dict.items():\n",
    "        for rc in score_dict.keys():\n",
    "            scores = score_dict[rc][score_name]\n",
    "            \n",
    "            if 'cost' in metric_name:\n",
    "                metric_value, _ = ec.average_cost_for_bayes_decisions(targets, scores, metric, adjusted=adjusted_cost, silent=True)\n",
    "            else:\n",
    "                # For cross-entropy and Brier, use the psrcal repository, which\n",
    "                # works with torch tensors\n",
    "                metric_value = metric(scores, targets)\n",
    "\n",
    "            print(f\"{sep1} {metric_value:4.2f}  \", end='')\n",
    "        print(sep2, end='')\n",
    "    print(sep3)"
   ]
  },
  {
   "cell_type": "markdown",
   "metadata": {
    "id": "Ln3oOgeKnp7r"
   },
   "source": [
    "In the table above:\n",
    "* For the Datap row, the difference between the cal and the mc1 or mc2 columns show the effect of the two types of miscalibration.\n",
    "* The difference between the Datap and Mismp results in the same column show the effect of using mismatched priors when computing the log-posteriors, which is another type of miscalibration.\n",
    "* The affc and tempc rows show the effect of calibration using an affine or temp-scale calibration transformation (trained with cross-validation on the test scores). We can see that temp-scaling does not solve calibration issues in all cases. For example, it cannot fix posteriors computed with mismatched priors. On the other hand, the affine calibration transformation completely fixes calibration for these examples (which are, granted, simulated so that an affine transformation is indeed optimal for calibration).\n",
    "* Note that the Datap-cal posteriors correspond to perfectly calibrated posteriors, both because the llks were perfectly calibrated and because we used matched priors to compute the posteriors. Hence, they are they absolute best you can do for this dataset.\n"
   ]
  },
  {
   "cell_type": "code",
   "execution_count": 8,
   "metadata": {
    "colab": {
     "base_uri": "https://localhost:8080/"
    },
    "id": "3G84LiDL3SlK",
    "outputId": "185b233a-424c-4059-f9c4-f26ebb0c1ff7"
   },
   "outputs": [
    {
     "name": "stdout",
     "output_type": "stream",
     "text": [
      "               | Cal-loss-cross-entropy | Cal-loss-brier-score   | ECE                    |\n",
      "Score_type     |   cal     mc1     mc2  |   cal     mc1     mc2  |   cal     mc1     mc2  |\n",
      "Datap          |    -0      23      91  |    -0      20      22  |     0       2       2  |\n",
      "Datap-affcal   |     0       0       0  |     0       0       0  |     0       0       0  |\n",
      "Datap-temcal   |    -0      23      -0  |    -0      20      -0  |     0       2       0  |\n",
      "Mismp          |    74      73      98  |    76      71      82  |     2       9      11  |\n",
      "Mismp-affcal   |     0       0       0  |     0       0       0  |     0       0       0  |\n",
      "Mismp-temcal   |    74      68      74  |    76      65      76  |     1       1       1  |\n"
     ]
    }
   ],
   "source": [
    "metric_dict = {'Cal-loss-cross-entropy': LogLoss, \n",
    "               'Cal-loss-brier-score': Brier, \n",
    "               'ECE': ECE}\n",
    "\n",
    "print_header(metric_dict, score_dict)\n",
    "\n",
    "for score_name in np.sort(list(score_dict['mc1'].keys())):\n",
    "\n",
    "    if 'llks' in score_name or 'caltt' in score_name: continue\n",
    "    print(f\"{score_name:<13s}  {sep2}\", end='')\n",
    "\n",
    "    for metric_name, metric in metric_dict.items():\n",
    "        for rc in score_dict.keys():\n",
    "            scores = score_dict[rc][score_name]\n",
    "            \n",
    "            if metric_name == \"ECE\":\n",
    "                metric_value = metric(scores, targets)\n",
    "            else:\n",
    "                score_name_before_cal = re.sub(\"-...cal\", \"\", score_name)\n",
    "                cal_scores = score_dict[rc][f\"{score_name_before_cal}-affcal\"]\n",
    "                metric_value = CalLoss(metric, scores, cal_scores, targets)\n",
    "\n",
    "            print(f\"{sep1} {metric_value:4.0f}  \", end='')\n",
    "        print(sep2, end='')\n",
    "    print(sep3)\n"
   ]
  },
  {
   "cell_type": "markdown",
   "metadata": {
    "id": "9XifxGaV0SZn"
   },
   "source": [
    "In the table above:\n",
    "* The calibration loss computed with cross-entropy and with Brier score are very similar for every system.\n",
    "* The ECE, on the other hand, vastly underestimated the calibration problem in some cases. In particular, when the priors are mismatched but the llks are well calibrated (the Mismp-cal case), the ECE is very low, but the calibration is very bad, as we can tell from the value of the expected PSRs.\n"
   ]
  },
  {
   "cell_type": "code",
   "execution_count": 9,
   "metadata": {
    "colab": {
     "base_uri": "https://localhost:8080/",
     "height": 284
    },
    "id": "W2y_H4wrbelT",
    "outputId": "230572da-a51f-44a1-df77-51008d339abf"
   },
   "outputs": [
    {
     "name": "stdout",
     "output_type": "stream",
     "text": [
      "Multiclass ECE 2.447171484318085\n"
     ]
    },
    {
     "data": {
      "image/png": "[encoded data removed]",
      "text/plain": [
       "<Figure size 900x300 with 2 Axes>"
      ]
     },
     "metadata": {},
     "output_type": "display_data"
    }
   ],
   "source": [
    "# Example on how to plot a version of the (multi-class) reliability diagram \n",
    "# (with lines instead of bars to show the actual place where the average \n",
    "# confidences land in each bin) which includes the values used to compute \n",
    "# the multi-class ECE.\n",
    "\n",
    "# For the binary case, also include the corresponding plot for the binary\n",
    "# reliability diagram and ECE (ie, without mapping the posteriors to confidences\n",
    "# and the problem to one of deciding whether the system made a correct prediction)\n",
    "\n",
    "rc = 'mc2'\n",
    "score_name = 'Datap'\n",
    "scores = score_dict[rc][score_name]\n",
    "nbins = 10\n",
    "\n",
    "metric_value, ys, xs, counts, limits = ECE(scores, targets, return_values=True, M=nbins)\n",
    "plot_reliability_diagram(ys, xs, counts, limits, f\"{outdir}/reliability_diagram_{rc}_{score_name}.pdf\")\n",
    "print(f\"Multiclass ECE {metric_value}\")\n",
    "\n",
    "if num_targets == 2:\n",
    "    metric_value, ys, xs, counts, limits = ECEbin(scores, targets, return_values=True, M=nbins)\n",
    "    plot_reliability_diagram(ys, xs, counts, limits, f\"{outdir}/reliability_diagram_{rc}_{score_name}.pdf\")\n",
    "    print(f\"Binary ECE {metric_value}\")\n",
    "    \n",
    "    "
   ]
  },
  {
   "cell_type": "code",
   "execution_count": null,
   "metadata": {},
   "outputs": [],
   "source": []
  },
  {
   "cell_type": "code",
   "execution_count": null,
   "metadata": {},
   "outputs": [],
   "source": []
  },
  {
   "cell_type": "code",
   "execution_count": null,
   "metadata": {},
   "outputs": [],
   "source": []
  }
 ],
 "metadata": {
  "colab": {
   "collapsed_sections": [],
   "provenance": []
  },
  "kernelspec": {
   "display_name": "Python 3 (ipykernel)",
   "language": "python",
   "name": "python3"
  },
  "language_info": {
   "codemirror_mode": {
    "name": "ipython",
    "version": 3
   },
   "file_extension": ".py",
   "mimetype": "text/x-python",
   "name": "python",
   "nbconvert_exporter": "python",
   "pygments_lexer": "ipython3",
   "version": "3.9.13"
  }
 },
 "nbformat": 4,
 "nbformat_minor": 1
}
