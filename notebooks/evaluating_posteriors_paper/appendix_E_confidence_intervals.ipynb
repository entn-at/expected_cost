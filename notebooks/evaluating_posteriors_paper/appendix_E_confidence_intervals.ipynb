{
 "cells": [
  {
   "cell_type": "code",
   "execution_count": 1,
   "metadata": {
    "colab": {
     "base_uri": "https://localhost:8080/"
    },
    "id": "3gEIJ0m_bAvI",
    "outputId": "b921aa6c-05d4-4556-bb13-82234f2ea7e9"
   },
   "outputs": [],
   "source": [
    "# This notebook generates the results in appendix E.\n",
    "# It shows how to compute bootstrap confidence intervals for CE and CalLoss for one of the systems.\n",
    "# Note that here we assume that samples are iid. If this is not the case, the bootstrap samples \n",
    "# should be created by sampling by whatever condition introduces the correlations. For example, in a dataset\n",
    "# composed by many samples from each of N different speakers, the bootstrap samples would need to be\n",
    "# created by speaker. The method create_bootstrap_set has an optional argument called condition\n",
    "# which can be used to pass the correlation-inducing condition of each sample.\n",
    "\n",
    "\n",
    "import matplotlib.pyplot as plt\n",
    "import numpy as np\n",
    "from expected_cost import ec, utils\n",
    "from expected_cost.data import create_scores_for_expts\n",
    "from expected_cost.calibration import calibration_with_crossval, calibration_train_on_test\n",
    "from expected_cost.psrcal_wrappers import Brier, LogLoss, CalLoss\n",
    "from psrcal.calibration import HistogramBinningCal\n",
    "\n",
    "outdir = \"outputs/\"\n",
    "utils.mkdir_p(outdir)\n",
    "\n",
    "# Method to obtain the 95% confidence interval    \n",
    "def get_conf_int(vals, alpha=5):\n",
    "    return (np.percentile(vals, alpha/2), np.percentile(vals, 100-alpha/2))"
   ]
  },
  {
   "cell_type": "code",
   "execution_count": 2,
   "metadata": {},
   "outputs": [
    {
     "name": "stdout",
     "output_type": "stream",
     "text": [
      "0.3683633176519441\n"
     ]
    }
   ],
   "source": [
    "# Create the data\n",
    "\n",
    "num_targets = 2\n",
    "N = 200 * num_targets\n",
    "feat_var = 0.15\n",
    "score_dict, targets = create_scores_for_expts(num_targets, N=N, P0=0.8, simple_names=True, feat_var=feat_var, sim_name='gaussian_sim_md')\n",
    "\n",
    "print(Brier(score_dict['cal'], targets))\n"
   ]
  },
  {
   "cell_type": "code",
   "execution_count": 3,
   "metadata": {},
   "outputs": [],
   "source": [
    "# Compute the metrics for many bootstrap samples for each of the scores considered in the paper.\n",
    "# Note that this might take a while. You can speed up the process by reducing numbootstraps.\n",
    "\n",
    "metric = Brier # LogLoss or Brier\n",
    "metric_name = 'BS'\n",
    "\n",
    "numbootstraps = 100\n",
    "score_names = ['cal', 'mcp', 'mcs', 'mcps']\n",
    "nbins = 15\n",
    "\n",
    "epsr_vals = {}\n",
    "calloss_vals = {} \n",
    "scores_cal = {}\n",
    "\n",
    "for j, score_name in enumerate(score_names):\n",
    "\n",
    "    scores = score_dict[score_name]\n",
    "    epsr_vals[score_name] = []\n",
    "    calloss_vals[score_name] = {'Axv': [], 'Att': [], 'Htt': [], 'Hxv': []}\n",
    "\n",
    "    for nb in np.arange(numbootstraps):\n",
    "\n",
    "        # Scores, targets and conditions for the bootstrap set. The cond_bt variable contains the\n",
    "        # selected indices if the input conditions are None, or the conditions of the selected samples\n",
    "        # if conditions are provided as input.\n",
    "        if nb==0:\n",
    "            # For the first nb, just keep the whole test data (this is to avoid repeating all the code\n",
    "            # below for that data outside the loop)\n",
    "            scores_bt, targets_bt, cond_bt = scores, targets, None\n",
    "        else:              \n",
    "            scores_bt, targets_bt, cond_bt = utils.create_bootstrap_set(scores, targets, conditions=None)\n",
    "\n",
    "        # Use cond_bt to determine the folds. This is important even if conditions is None because\n",
    "        # otherwise the same exact sample may appear across more than one fold which would defeat the\n",
    "        # purpose of doing xval.\n",
    "        scores_cal['Axv'] = calibration_with_crossval(scores_bt, targets_bt, condition_ids=cond_bt)\n",
    "        scores_cal['Att'] = calibration_train_on_test(scores_bt, targets_bt)\n",
    "        \n",
    "        # You can check that increasing M results in more and more overfitting of the calibration\n",
    "        # transform which in turn results in an overestimation of the calibration loss.\n",
    "        scores_cal['Hxv'] = calibration_with_crossval(scores_bt, targets_bt, calmethod=HistogramBinningCal, calparams={'M':nbins}, condition_ids=cond_bt)\n",
    "        scores_cal['Htt'] = calibration_train_on_test(scores_bt, targets_bt, calmethod=HistogramBinningCal, calparams={'M':nbins})\n",
    "\n",
    "        # The array below can be used to get a confidence interval on the epsr itself\n",
    "        epsr_vals[score_name].append(metric(scores_bt, targets_bt))\n",
    "        \n",
    "        for caltype in scores_cal.keys():\n",
    "            calloss_vals[score_name][caltype].append(CalLoss(metric, scores_bt, scores_cal[caltype], targets_bt))\n",
    "    \n",
    "\n",
    "    \n"
   ]
  },
  {
   "cell_type": "code",
   "execution_count": 4,
   "metadata": {},
   "outputs": [
    {
     "data": {
      "image/png": "[encoded data removed]",
      "text/plain": [
       "<Figure size 170x200 with 1 Axes>"
      ]
     },
     "metadata": {},
     "output_type": "display_data"
    },
    {
     "data": {
      "image/png": "[encoded data removed]",
      "text/plain": [
       "<Figure size 500x200 with 1 Axes>"
      ]
     },
     "metadata": {},
     "output_type": "display_data"
    }
   ],
   "source": [
    "# set width of bar\n",
    "barWidth = 0.2\n",
    "color = ['blue', 'red', 'green', 'yellow']\n",
    "caltypes = ['Axv', 'Hxv', 'Att', 'Htt']\n",
    "alpha = 5\n",
    "\n",
    "fig, ax = plt.subplots(figsize=(1.7,2))\n",
    "for j, score_name in enumerate(score_names):\n",
    "    \n",
    "    vals = epsr_vals[score_name]\n",
    "    \n",
    "    # Take the first value in the list, which was computed using the whole test set without sampling\n",
    "    # as the bar height (for consistency with results in the main body of the paper)\n",
    "    ax.bar(barWidth*j, vals[0], color=color[j], width = barWidth, label=score_name)\n",
    "    # One could, instead plot the bar height as the mean over all bootstrap samples\n",
    "    #ax.bar(barWidth*j, np.mean(vals[1:]), color=color[j], width = barWidth, label=score_name)\n",
    "\n",
    "    # Compute the confidence intervals using all elements in the list from the second to the last\n",
    "    ax.plot(barWidth*j*np.ones(2),get_conf_int(vals[1:], alpha=alpha), 'k')\n",
    "    \n",
    "ax.set_xlabel('N%s'%metric_name)\n",
    "ax.set_xticks([])\n",
    "ax.set_xlim([-2*barWidth,5*barWidth])\n",
    "\n",
    "plt.savefig(f\"{outdir}/confidence_intervals_epsr.pdf\")\n",
    "\n",
    "# Next, repeat the plot for three RCL metrics computed with different calibration approaches\n",
    "\n",
    "fig, ax = plt.subplots(figsize=(5,2))\n",
    "for j, score_name in enumerate(score_names):\n",
    "\n",
    "    vals = calloss_vals[score_name]\n",
    "    xvalues = np.arange(len(vals)) + barWidth * j\n",
    "    yvalues = [vals[caltype][0] for caltype in caltypes]\n",
    "\n",
    "    ax.bar(xvalues, yvalues, color=color[j], width = barWidth, label=score_name)\n",
    "    for k, caltype in enumerate(caltypes):\n",
    "        ax.plot(xvalues[k]*np.ones(2),get_conf_int(vals[caltype], alpha=alpha), 'k')\n",
    "\n",
    "ax.set_xticks(np.arange(len(caltypes)) + barWidth * 1.5, ['RCL-%s-%s'%(metric_name,c) for c in caltypes])\n",
    "ax.legend(loc='upper left', ncol=4)\n",
    "\n",
    "ax.set_ylim([-40,105])\n",
    "\n",
    "plt.savefig(f\"{outdir}/confidence_intervals_calloss.pdf\")\n",
    "\n"
   ]
  }
 ],
 "metadata": {
  "colab": {
   "collapsed_sections": [],
   "provenance": []
  },
  "kernelspec": {
   "display_name": "Python 3 (ipykernel)",
   "language": "python",
   "name": "python3"
  },
  "language_info": {
   "codemirror_mode": {
    "name": "ipython",
    "version": 3
   },
   "file_extension": ".py",
   "mimetype": "text/x-python",
   "name": "python",
   "nbconvert_exporter": "python",
   "pygments_lexer": "ipython3",
   "version": "3.9.13"
  }
 },
 "nbformat": 4,
 "nbformat_minor": 1
}
