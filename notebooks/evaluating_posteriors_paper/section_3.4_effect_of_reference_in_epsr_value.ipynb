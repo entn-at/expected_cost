{
 "cells": [
  {
   "cell_type": "code",
   "execution_count": 1,
   "metadata": {
    "colab": {
     "base_uri": "https://localhost:8080/"
    },
    "id": "3gEIJ0m_bAvI",
    "outputId": "b921aa6c-05d4-4556-bb13-82234f2ea7e9"
   },
   "outputs": [],
   "source": [
    "# This notebook generates the results for table 1 (section 3.4)\n",
    "\n",
    "import matplotlib.pyplot as plt\n",
    "import numpy as np\n",
    "from expected_cost import ec, utils\n",
    "from expected_cost.data import create_scores_for_expts\n",
    "from psrcal.losses import plot_reliability_diagram\n",
    "\n",
    "from expected_cost.psrcal_wrappers import Brier, LogLoss, LogLossSE\n",
    "outdir = \"outputs/\"\n",
    "utils.mkdir_p(outdir)\n"
   ]
  },
  {
   "cell_type": "code",
   "execution_count": 4,
   "metadata": {},
   "outputs": [
    {
     "name": "stdout",
     "output_type": "stream",
     "text": [
      "Scores                cal                    mcs                    mcp                    mcps                  \n",
      "#Samples                200   2000  20000    200   2000  20000    200   2000  20000    200   2000  20000 \n",
      "true                     -3     -5     -2     -7    -10     -5      4     -2      0      4     -2      0 \n",
      "affcaltt                  0      0      0      0      0      0      0      0      0      0      0      0 \n",
      "affcalxv                  1      0      0      1      0      0      1      0      0      0      0      0 \n",
      "temcaltt                  1     -1      0      1     -1      0     29     28     28     29     28     28 \n",
      "temcalxv                  1     -1      0      2     -1      0     29     28     28     29     28     28 \n",
      "hiscaltt                 -6     -8     -9   -153   -143   -132    -19    -21    -17    -62    -84    -82 \n",
      "hiscalxv                 -2     -8     -9   -171   -144   -132    -15    -21    -17    -62    -83    -82 \n"
     ]
    }
   ],
   "source": [
    "num_targets = 2 # 2 for the results in the main paper (section 3), 10 for the appendix (section 5)\n",
    "\n",
    "emp_epsr = {}\n",
    "semiemp_epsr = {}\n",
    "\n",
    "sep = ''  #'&'\n",
    "endline = '' #'\\\\\\\\'\n",
    "\n",
    "Ns = [200, 2000, 20000]\n",
    "\n",
    "for N in Ns:\n",
    "\n",
    "    # Create the scores using a general method from the repository and map the names to those\n",
    "    # used in the paper. See notebook metric_comparison.ipynb for more details.\n",
    "    feat_var = 0.15\n",
    "    score_dict, targets = create_scores_for_expts(num_targets, N=N, P0=0.8, calibrate=True, simple_names=True, feat_var=feat_var, sim_name='gaussian_sim_md')\n",
    "\n",
    "    for score_name in ['cal', 'mcp', 'mcs', 'mcps']:\n",
    "\n",
    "        scores = score_dict[score_name]\n",
    "        score_nameN = f'{score_name}-{N}'\n",
    "\n",
    "        emp_epsr[score_nameN] = LogLoss(scores, targets)\n",
    "\n",
    "        semiemp_epsr[score_nameN] = {}\n",
    "        semiemp_epsr[score_nameN]['true'] = LogLossSE(scores, score_dict['cal'])\n",
    "        for calt in ['aff', 'tem', 'his']:\n",
    "            for cald in ['tt', 'xv']:\n",
    "                caln = f'{calt}cal{cald}'\n",
    "                semiemp_epsr[score_nameN][caln] = LogLossSE(scores, score_dict[score_name+'-'+caln])\n",
    "\n",
    "print(f'Scores               ', end='')\n",
    "for score_name in ['cal', 'mcs', 'mcp',  'mcps']:\n",
    "    print(f'{sep} {score_name:21s} ', end='')\n",
    "print(f'{endline}')\n",
    "\n",
    "print(f'#Samples             ', end='')\n",
    "for score_name in ['cal', 'mcs', 'mcp',  'mcps']:\n",
    "    for N in Ns:\n",
    "        score_nameN = f'{score_name}-{N}'\n",
    "        print(f'{sep} {N:5d} ', end='')\n",
    "print(f'{endline}')\n",
    "\n",
    "\n",
    "for metric_name, metrics in semiemp_epsr['cal-200'].items():\n",
    "\n",
    "    print(f'{sep}{metric_name:20s} ', end='')\n",
    "\n",
    "    for score_name in ['cal', 'mcs', 'mcp',  'mcps']:\n",
    "        for N in Ns:\n",
    "\n",
    "            score_nameN = f'{score_name}-{N}'\n",
    "            emp = emp_epsr[score_nameN]\n",
    "            semiemp = semiemp_epsr[score_nameN][metric_name]\n",
    "            ce_fit = int(np.round((emp-semiemp)/emp*100))\n",
    "            print(f'{sep} {ce_fit:5d} ', end='')\n",
    "\n",
    "    print(f'{endline}')\n",
    "\n"
   ]
  }
 ],
 "metadata": {
  "colab": {
   "collapsed_sections": [],
   "provenance": []
  },
  "kernelspec": {
   "display_name": "Python 3 (ipykernel)",
   "language": "python",
   "name": "python3"
  },
  "language_info": {
   "codemirror_mode": {
    "name": "ipython",
    "version": 3
   },
   "file_extension": ".py",
   "mimetype": "text/x-python",
   "name": "python",
   "nbconvert_exporter": "python",
   "pygments_lexer": "ipython3",
   "version": "3.9.13"
  }
 },
 "nbformat": 4,
 "nbformat_minor": 1
}
